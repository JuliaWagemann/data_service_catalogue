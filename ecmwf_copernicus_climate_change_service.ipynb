{
 "cells": [
  {
   "cell_type": "markdown",
   "metadata": {},
   "source": [
    "<img style=\"float: right;\" src=\"./img/ODW_banner_devpost.jpg\"></img>"
   ]
  },
  {
   "cell_type": "markdown",
   "metadata": {},
   "source": [
    "<hr>"
   ]
  },
  {
   "cell_type": "markdown",
   "metadata": {},
   "source": [
    "<a href=\"./ecmwf_web_coverage_service.ipynb\"><< 03-ECMWF Web Coverage Service</a>&nbsp;<space>&nbsp;<space>&nbsp;<space>&nbsp;<space>&nbsp;<space>&nbsp;<space>&nbsp;<space>&nbsp;<space>&nbsp;<space>&nbsp;<space> <a href=\"./ecmwf_additional_data_resources.ipynb\">05-Additional open data ressources >></a>"
   ]
  },
  {
   "cell_type": "markdown",
   "metadata": {
    "collapsed": true
   },
   "source": [
    "## <center><h2>4. ECMWF Copernicus Climate Change Service (C3S)</h2></center>"
   ]
  },
  {
   "cell_type": "markdown",
   "metadata": {},
   "source": [
    "- [4.1 Service Description](#service-description) \n",
    "- [4.2 Available datasets](#datasets) "
   ]
  },
  {
   "cell_type": "markdown",
   "metadata": {},
   "source": [
    "<hr>"
   ]
  },
  {
   "cell_type": "markdown",
   "metadata": {},
   "source": [
    "## <a id='service-description'></a>3.1 Service Description"
   ]
  },
  {
   "cell_type": "markdown",
   "metadata": {},
   "source": [
    "TBA"
   ]
  },
  {
   "cell_type": "markdown",
   "metadata": {},
   "source": [
    "<hr>"
   ]
  },
  {
   "cell_type": "markdown",
   "metadata": {},
   "source": [
    "## <a id='datasets'></a>3.2 Available datasets"
   ]
  },
  {
   "cell_type": "markdown",
   "metadata": {},
   "source": [
    "- [Sectoral Information System (SIS) indicators clustered](#sis-indicators)"
   ]
  },
  {
   "cell_type": "markdown",
   "metadata": {},
   "source": [
    "### <a id='sis-indicators'></a>SIS indicators clustered"
   ]
  },
  {
   "cell_type": "markdown",
   "metadata": {},
   "source": [
    "#### Surface level parameter"
   ]
  },
  {
   "cell_type": "markdown",
   "metadata": {},
   "source": [
    "| Number | Sector | Indicator | Data set origin | Time span | Spatial extension | Reference | Data download procedure link | Project(s) of reference | Underpinning use case example\n",
    "|-------------|----------------|------------------|---------------------------------|-----------------------|-------------|------------| -------------------------|--------------------|\n",
    "| 1 | Water| Ground water recharge | This is the relative change in the monthly groundwater recharge with respect to the reference period.  Monthly groundwater recharge is the mean groundwater recharge in mm for each calendar month.  |Climate projections | Europe | |http://edge.climate.copernicus.eu/Apps/#map | EDGE -http://edge.climate.copernicus.eu/ ||\n",
    "| 2 | Water | Soil moisture | The SMI (x) is a percentile-based index that indicates the percentage of the time that the soil moisture (x) at a given location and point in time will take a value less than or equal to x. The monthly climatology of the SMI for a given location is estimated for the reference period. |Climate projections | Europe | |http://edge.climate.copernicus.eu/Apps/#map | EDGE -http://edge.climate.copernicus.eu/ ||\n",
    "| 3 | Water | Evapotranspiration | Relative change in the monthly PET with respect to a reference period. Monthly PET is the mean PET in mm for each calendar month. |Climate projections | Europe | | http://edge.climate.copernicus.eu/Apps/#map | EDGE -http://edge.climate.copernicus.eu/ ||\n",
    "| 4 | Water | Streamflow |  | | | | EDGE -http://edge.climate.copernicus.eu/ | http://www.swicca.eu/start/implemented-cases-of-local-change-adaptation/operational-droughts-in-the-jucar-river-basin-district/ <br>The Jucar River Basin District (JRBD) in Spain has always faced water scarcity related to prolonged drought episodes.The Júcar River Basin District Agency (CHJ) is interested in the predictability of extreme events (droughts specifically) and their impacts. |\n",
    "| 5 | Water | Water quality | The climate impact indicators are based on hydrological impact modelling using the hydrological model E-HYPEv3.1.2. The hydrological modelling was done for SWICCA with an ensemble of bias-corrected climate model data provided by the EU FP7 project IMPACT2C (grant agreement 282746). More information on the climate-model ensemble used (for instance model selection procedures, uncertainties, adjustments) can be found here: http://impact2c.hzg.de/imperia/md/content/csc/projekte/impact2c_d5.1_fin.pdf<br>Within the project IMPACT2C, the original RCM output data has been spatially interpolated, adjusted to the standard Gregorian calendar and has partly been bias-corrected. More details can be found here: http://impact2c.hzg.de/imperia/md/content/csc/projekte/impact2c_d4.1.pdf <br>The dataset covers the ensemble members given in Table 1. The ensemble comprises three Representative Concentration Pathways (RCP) to cover a range of policy scenarios: a mitigation scenario (RCP2.6), a stabilization scenario (RCP4.5) and a high greenhouse gas scenario (RCP8.5). The SWICCA indicators on catchment resolution are provided for an ensemble using one hydrological model (E-HYPEv3.1.2). The full ensemble of time series from the model runs is stored at SMHI and the original daily time-series of some essential climate variables can be downloaded from the SWICCA interface. |  * Reference period: 1971-01-01 to 2000-12-31 <br> * Future periods: 2011-01-01 to 2040-12-31 <br> * 2041-01-01 to 2070-12-31 <br> * 2071-01-01 to 2100-12-31| Catchment in Europe | Y. Hundecha et al. 2016. A regional parameter estimation scheme for a pan-European multi-basin model. Journal of Hydrology: Regional Studies, 6(2016), 90-111., doi:10.1016/j.ejrh.2016.04.002 | http://swicca.climate.copernicus.eu/indicator-interface/maps |SWICCA http://swicca.climate.copernicus.eu/ | http://www.swicca.eu/start/implemented-cases-of-local-change-adaptation/risk-assessment-of-point-source-pollution-in-asopos-river-basin/ Special Secretariat for Water, being responsible for the implementation of the WFD in Greece, needs to evaluate the efficacy, under climate change pressures, of regulatory measures (Emission Limit Values) imposed on local industry at the Asopos River area. |\n",
    "| 6 | Water | Flow duration curve | The flow duration curve (FDC) gives information about how frequently certain river flow rates occur. Here, the FDC is described through 13 percentiles of the distribution of daily river flows during a 30-year period: <br> • 1 % <br> • 5 % <br> • 10 % to 90 % in steps of 10 % <br> • 95 % <br> • 99 % <br> In case of the FDC for the full period, it is based on all daily data for a 30-year period. In the case of FDC’s seasonality, it is based on all daily data for a 30-year period that belong to the same month, evaluated for all 12 months of a year (i.e. all Januaries, all Februaries etc.) <br> For the reference period (1971-2000) the absolute values are given, while for the future periods the relative changes are provided.  | * Reference period: 1971-01-01 to 2000-12-31 <br> * Future periods: 2011-01-01 to 2040-12-31 <br> * 2041-01-01 to 2070-12-31 <br> * 2071-01-01 to 2100-12-31 | Europe at 5 km resolution | Alfieri, L., Pappenberger, F., Wetterhall, F., Haiden, T., Richardson, D., Salamon, P., 2014. Evaluation of ensemble streamflow predictions in Europe. Journal of Hydrology, 517, pp. 913-922. <br> Burek, P., Van Der Knijff, J., De Roo, A., 2013. LISFLOOD: distributed water balance and flood simulation model. JRC Technical Report, EUR26126. http://publications.jrc.ec.europa.eu/repository/bitstream/JRC78917/lisflood_2013_online.pdf <br> Feyen, L., Vrugt, J.A., Nualláin, B.O., van der Knijff, J., De Roo, A., 2007. Parameter optimisation and uncertainty assessment for large-scale streamflow simulation with the LISFLOOD model. Journal of Hydrology, 332 (3-4), pp. 276-289. <br> Feyen, L., Kalas, M., Vrugt, J.A., 2008. Semi-distributed parameter optimization and uncertainty assessment for large-scale streamflow simulation using global optimization. Hydrological Sciences Journal, 53 (2), pp. 293-308. <br> Forzieri, G., Feyen, L., Rojas, R., Flörke, M., Wimmer, F., Bianchi, A., 2014. Ensemble projections of future streamflow droughts in Europé. Hydrology and Earth System Sciences, 18 (1), pp. 85-108. <br> Revilla-Romero, B., Beck, H.E., Burek, P., Salamon, P., de Roo, A., Thielen, J., 2015. Filling the gaps: Calibrating a rainfall-runoff model using satellite-derived surface water extent. Remote Sensing of Environment, 171, pp. 118-131. | http://swicca.climate.copernicus.eu/ | SWICCA http://swicca.climate.copernicus.eu/ | SWICCA user story 8: A consulting company working on river water balance who wants to estimate the balance between surface water and demand and how this could vary as a function of different climate change scenario so that its clients could better plan authorised withdrawals that will stay in place for decades. |\n",
    "| 7 | Water/Energy | Snow depth anomalies | Annual maximum snow depth anomaly | Climate projections | Europe sub-catchment | |https://vesg.ipsl.upmc.fr/thredds/catalog/CORDEX-c4e/catalog.html | CLIM4Energy http://clim4energy.climate.copernicus.eu/ ||\n",
    "| 8 | Water/Energy | Snow water equivalent | denotes the relative change in the monthly snow water equivalent with respect to a reference period. Monthly snow water equivalent is the mean snow water equivalent in mm for each calendar month.  | Climate projections | | || EDGE -http://edge.climate.copernicus.eu/ ||\n",
    "| 9 | Energy | Freezing rain | Co-occurrence of rainfall with surface sub-freezing temperature | Historical and climate change | Gridded over Europe | |https://vesg.ipsl.upmc.fr/thredds/catalog/CORDEX-c4e/catalog.html | Clim4Energy http://clim4energy.climate.copernicus.eu/ ||\n",
    "| 10 | Energy | Energy demand | Mean Power (MW) | Historical, seasonal and climate projections | Country and cluster level | | ftp://ecem.climate.copernicus.eu/ | ECEM http://ecem.climate.copernicus.eu/ ||\n",
    "| 11 | Energy |Wind capacity factor | | Historical, seasonal and climate projections | Counry and cluster level | |ftp://ecem.climate.copernicus.eu/ | ECEM http://ecem.climate.copernicus.eu/ ||\n",
    "| 12 | Energy | Solar capacity factor | | Historical, seasonal and climate projections | Counry and cluster level | |ftp://ecem.climate.copernicus.eu/ | ECEM http://ecem.climate.copernicus.eu/ ||\n",
    "| 13 | Energy |Wind capacity factor | | Historical, seasonal and climate projections | Counry and cluster level | | ftp://ecem.climate.copernicus.eu/  | ECEM http://ecem.climate.copernicus.eu/ ||\n",
    "| 14 | Urban |O3 concentration | | | Three cities in Europe | cEUPM10daily <br> 90th percentile of daily averages during a year (sameas 35 exceedances per year) µg m-3  |http://urban-sis.smhi.se/ | UrbanSIS http://urban-sis.smhi.se/  ||\n",
    "| 15 | Urban |Pm2.5 concentration | | | Three cities in Europe | cEUPM10daily <br> 90th percentile of daily averages during a year (sameas 35 exceedances per year) µg m-3  |http://urban-sis.smhi.se/ | UrbanSIS http://urban-sis.smhi.se/  ||\n",
    "| 16 | Urban |NO2 concentration | | | Three cities in Europe | 99.8th percentile of hourly averages during a year (same as 18 exceedances per year)   |http://urban-sis.smhi.se/ | UrbanSIS http://urban-sis.smhi.se/  ||\n",
    "| 17 | Urban |Thermal discomfort index | | | Three cities in Europe | Number of days exceeding the defined thresholds (24 and 28 Thom index), using daily maximum air temperature. Asessing thermal stress is important for worker health and safety, industrial productivity, and athletic performance. This heat stress index incorporates relevant meteorological variables related to physiological thermal stress into a single value. Many thermal stress indices have been developed since the early 1900s (see review and comparison by Epstein and Moran 2006). For example, the wet bulb globe temperature index (WBGT) developed by the U.S. Navy in 1957 has been used widely and adopted as an ISO standard (ISO 7243). The Thom index is selected for this work because it is highly correlated with the WBGT index and has the advantage of being technically easier to implemented. <br> Epstein Y, DS Moran 2006: Thermal comfort and the heat stress indices. Industrial health 44.3: 388-398. Stull R 2000: Meteorology for scientists and engineers. Thom EC 1959: The discomfort index. Weatherwise 12.2: 57-61 |http://urban-sis.smhi.se/ |UrbanSIS http://urban-sis.smhi.se/  ||\n",
    "| 18 | Insurance |Total Number of Wind-storms over threshold  | Derived from ERA-INT and ERA-20C storm footprints | 1900/40 to present | Europe | || WISC http://climate.copernicus.eu/wisc-windstorm-information-service ||\n",
    "| 19 | Insurance |Historic storm tracks for European Extra tropical Cyclones | Based on ERA-INT, ERA-20C and ERA5 |1900/40 to present  | Europe | | | WISC http://climate.copernicus.eu/wisc-windstorm-information-service ||\n",
    "| 20 | Insurance | Historic storm footprints for European Extra tropical Cyclones  | Based on ERA-INT, ERA-20C and ERA5 |1900/40 to present  | Europe | | | WISC http://climate.copernicus.eu/wisc-windstorm-information-service  ||\n",
    "| 21 | Agriculture | Huglin Index | | | Pan-European (TBC)  | | | Agriclass http://climate.copernicus.eu/agriclass-agricultural-climate-advisory-services ||\n",
    "| 22 | Agriculture | Spring flight: day of year of 379 degree day accumulation (base 8.99 °C) | | | Pan-European (TBC)  | | | Agriclass http://climate.copernicus.eu/agriclass-agricultural-climate-advisory-services ||\n",
    "| 23 | Agriculture | Hydro-climatic balance - ET0 reference minus Precipitation accumulation | | | Pan-European (TBC)  | | |Agriclass http://climate.copernicus.eu/agriclass-agricultural-climate-advisory-services  ||"
   ]
  },
  {
   "cell_type": "markdown",
   "metadata": {},
   "source": [
    "<hr>"
   ]
  },
  {
   "cell_type": "markdown",
   "metadata": {},
   "source": [
    "&copy; 2017 ECMWF\n",
    "\n",
    "This software is licensed under the terms of the Apache Licence Version 2.0 which can be obtained at http://www.apache.org/licenses/LICENSE-2.0. In applying this licence, ECMWF does not waive the privileges and immunities granted to it by virtue of its status as an intergovernmental organisation nor\n",
    "does it submit to any jurisdiction."
   ]
  }
 ],
 "metadata": {
  "kernelspec": {
   "display_name": "Python 2",
   "language": "python",
   "name": "python2"
  },
  "language_info": {
   "codemirror_mode": {
    "name": "ipython",
    "version": 2
   },
   "file_extension": ".py",
   "mimetype": "text/x-python",
   "name": "python",
   "nbconvert_exporter": "python",
   "pygments_lexer": "ipython2",
   "version": "2.7.8"
  }
 },
 "nbformat": 4,
 "nbformat_minor": 0
}
