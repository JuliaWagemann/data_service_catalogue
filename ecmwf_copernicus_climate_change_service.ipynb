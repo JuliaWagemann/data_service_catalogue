{
 "cells": [
  {
   "cell_type": "markdown",
   "metadata": {},
   "source": [
    "| Parameter | Id | Type/Level | Spatial resolution | Temporal resolution | Frequency | Format | Note |\n",
    "|------------------------|----------------|------------------|-----------------|-----------------------|-------------|------------|-----------------| \n",
    "| Water quality | test | C3S water (SWICCA)   | EUROPEAN | 1971 2100 | annual | CSV, excel | | \n",
    "| Flow duration curve | FDC water | C3S water (SWICCA) |\tEuropean at 5km grid | 1971 2100 | 30 years means | CSV, excel | | \n",
    "| Wind capacity factor | wind-CF | C3S Energy (ECEM) |\tEuropean regions | recent past to climate change | monthly | netcdf-cf | |\n",
    "| Growing degrees days | GDD | C3S agriculture | European gridded | recnet past to climate change | annual | netcdf-cf |  |"
   ]
  }
 ],
 "metadata": {
  "kernelspec": {
   "display_name": "Python 2",
   "language": "python",
   "name": "python2"
  },
  "language_info": {
   "codemirror_mode": {
    "name": "ipython",
    "version": 2
   },
   "file_extension": ".py",
   "mimetype": "text/x-python",
   "name": "python",
   "nbconvert_exporter": "python",
   "pygments_lexer": "ipython2",
   "version": "2.7.12"
  }
 },
 "nbformat": 4,
 "nbformat_minor": 1
}
